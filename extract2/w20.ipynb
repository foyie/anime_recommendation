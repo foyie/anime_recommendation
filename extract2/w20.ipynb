{
 "cells": [
  {
   "cell_type": "code",
   "execution_count": 1,
   "metadata": {},
   "outputs": [],
   "source": [
    "import requests\n",
    "from bs4 import BeautifulSoup\n",
    "import numpy as np\n",
    "import pandas as pd \n",
    "import re"
   ]
  },
  {
   "cell_type": "code",
   "execution_count": 5,
   "metadata": {},
   "outputs": [],
   "source": [
    "details=[]\n",
    "url=\"https://myanimelist.net/anime/season/2020/winter\"\n",
    "r_actn = requests.get(url)\n",
    "htmlContent_actn=r_actn.content\n",
    "soup_actn=BeautifulSoup(htmlContent_actn,'html.parser')\n",
    "anime_s22=soup_actn.find_all('a',attrs={'class':\"link-title\",'href': re.compile(\"^https://\")})\n",
    "    \n",
    "for text in anime_s22:         \n",
    "        name=text.get_text()\n",
    "        url=text.get('href')\n",
    "        details.append({'title':name,'link':url})    \n"
   ]
  },
  {
   "cell_type": "code",
   "execution_count": null,
   "metadata": {},
   "outputs": [],
   "source": [
    "details"
   ]
  },
  {
   "cell_type": "code",
   "execution_count": 6,
   "metadata": {},
   "outputs": [],
   "source": [
    "anime=[]\n",
    "\n",
    "for i in range(len(details)):\n",
    "    anime_url=details[i]['link']\n",
    "    r1=requests.get(anime_url)\n",
    "    htmlContent1=r1.content\n",
    "    soup1=BeautifulSoup(htmlContent1,'html.parser')\n",
    "    jap_name=soup1.find('h1',class_=\"title-name h1_bold_none\").text\n",
    "    \n",
    "    \n",
    "    eng_name=soup1.find('p',class_=\"title-english title-inherit\")\n",
    "    if eng_name is not None:\n",
    "        other_name=eng_name.text\n",
    "    else:\n",
    "        other_name=\"\"\n",
    "        \n",
    "    \n",
    "    genre=soup1.find_all(\"span\", { 'itemprop':\"genre\"  })\n",
    "    g_list=[]        \n",
    "    for text in genre:\n",
    "                \n",
    "        gg=text.get_text()\n",
    "        g_list.append(gg)\n",
    "    \n",
    "    rate=soup1.find('div',class_=\"score-label\")\n",
    "    if rate is not None:\n",
    "        ratings=rate.text\n",
    "    else:\n",
    "        ratings=\"\"\n",
    "    \n",
    "        \n",
    "    studio=soup1.find('span',class_=\"information studio author\")\n",
    "    if studio is not None:\n",
    "        studio_name=soup1.find('span',class_=\"information studio author\").text\n",
    "    else:\n",
    "        studio_name=\"\"\n",
    "      \n",
    "    type_info=soup1.find('span',class_=\"information type\")\n",
    "    if type_info is not None:\n",
    "        type=type_info.text\n",
    "    else:\n",
    "        type=\"\"\n",
    "        \n",
    "    \n",
    "    rank=soup1.find('span',class_=\"numbers ranked\").text\n",
    "    \n",
    "    mem=soup1.find('span',class_=\"numbers members\").text\n",
    "    \n",
    "    syn=soup1.find(\"p\", { 'itemprop':\"description\"}).text\n",
    "    img=soup1.find(\"img\", { 'itemprop':\"image\"})\n",
    "    if img is not None:\n",
    "        img_url=img['data-src']\n",
    "    else:\n",
    "        img_url=\"\"\n",
    "\n",
    "   \n",
    "    anime.append({'title':jap_name,'title2':other_name,'genre':g_list,'ratings':ratings,'studio':studio_name,'type':type,'rank':rank,'members':mem,'description':syn,'img_url':img_url,'link':anime_url})\n",
    "       \n",
    "    "
   ]
  },
  {
   "cell_type": "code",
   "execution_count": null,
   "metadata": {},
   "outputs": [],
   "source": [
    "df=pd.DataFrame(anime)\n",
    "df"
   ]
  },
  {
   "cell_type": "code",
   "execution_count": 8,
   "metadata": {},
   "outputs": [],
   "source": [
    "\n",
    "df.to_csv('D:\\\\Coding\\\\projects\\\\anime recommendation\\\\extract2\\\\data\\\\w20.csv',index=False)"
   ]
  }
 ],
 "metadata": {
  "kernelspec": {
   "display_name": "Python 3.9.12 ('foyie_env')",
   "language": "python",
   "name": "python3"
  },
  "language_info": {
   "codemirror_mode": {
    "name": "ipython",
    "version": 3
   },
   "file_extension": ".py",
   "mimetype": "text/x-python",
   "name": "python",
   "nbconvert_exporter": "python",
   "pygments_lexer": "ipython3",
   "version": "3.9.12"
  },
  "orig_nbformat": 4,
  "vscode": {
   "interpreter": {
    "hash": "707c518718e069bb7838367a1a9ddcfe7987c61e2416c11af102d417bd45bdf3"
   }
  }
 },
 "nbformat": 4,
 "nbformat_minor": 2
}
